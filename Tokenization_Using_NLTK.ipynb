{
  "nbformat": 4,
  "nbformat_minor": 0,
  "metadata": {
    "colab": {
      "provenance": []
    },
    "kernelspec": {
      "name": "python3",
      "display_name": "Python 3"
    },
    "language_info": {
      "name": "python"
    }
  },
  "cells": [
    {
      "cell_type": "code",
      "source": [
        "import nltk\n",
        "nltk.download('punkt')"
      ],
      "metadata": {
        "colab": {
          "base_uri": "https://localhost:8080/"
        },
        "id": "tR1TP5MoX4_D",
        "outputId": "fd0ba59b-32f4-4d0e-84ac-61106b1c2f14"
      },
      "execution_count": 5,
      "outputs": [
        {
          "output_type": "stream",
          "name": "stderr",
          "text": [
            "[nltk_data] Downloading package punkt to /root/nltk_data...\n",
            "[nltk_data]   Unzipping tokenizers/punkt.zip.\n"
          ]
        },
        {
          "output_type": "execute_result",
          "data": {
            "text/plain": [
              "True"
            ]
          },
          "metadata": {},
          "execution_count": 5
        }
      ]
    },
    {
      "cell_type": "code",
      "execution_count": 1,
      "metadata": {
        "id": "0aRuVjLJXYyb"
      },
      "outputs": [],
      "source": [
        "text=\"Silver certificates are a type of representative money issued between 1878 and 1964 in the United States as part of its circulation of paper currency. They were produced in response to silver agitation by citizens who were angered by the Coinage Act of 1873, which had effectively placed the United States on a gold standard. Since 1968 they have been redeemable only in Federal Reserve Notes and are thus obsolete, but they remain legal tender at their face value and hence are still an accepted form of currency. These are three banknotes from the 1934 series of silver certificates, designed by the Bureau of Engraving and Printing and comprising the denominations $1, $5 and $10. Each banknote bears a portrait of a different individual, identified above.\""
      ]
    },
    {
      "cell_type": "code",
      "source": [
        "from nltk.tokenize import sent_tokenize\n",
        "documents=sent_tokenize(text)"
      ],
      "metadata": {
        "id": "rfyRqLqzXk8J"
      },
      "execution_count": 6,
      "outputs": []
    },
    {
      "cell_type": "code",
      "source": [
        "for sentence in documents:\n",
        "    print(sentence)"
      ],
      "metadata": {
        "colab": {
          "base_uri": "https://localhost:8080/"
        },
        "id": "XEhA4AaZXk_W",
        "outputId": "002bb9c5-a048-43a8-f863-c6c1b44f6ec7"
      },
      "execution_count": 7,
      "outputs": [
        {
          "output_type": "stream",
          "name": "stdout",
          "text": [
            "Silver certificates are a type of representative money issued between 1878 and 1964 in the United States as part of its circulation of paper currency.\n",
            "They were produced in response to silver agitation by citizens who were angered by the Coinage Act of 1873, which had effectively placed the United States on a gold standard.\n",
            "Since 1968 they have been redeemable only in Federal Reserve Notes and are thus obsolete, but they remain legal tender at their face value and hence are still an accepted form of currency.\n",
            "These are three banknotes from the 1934 series of silver certificates, designed by the Bureau of Engraving and Printing and comprising the denominations $1, $5 and $10.\n",
            "Each banknote bears a portrait of a different individual, identified above.\n"
          ]
        }
      ]
    },
    {
      "cell_type": "code",
      "source": [
        "from nltk.tokenize import word_tokenize"
      ],
      "metadata": {
        "id": "LDouIAhSXlCD"
      },
      "execution_count": 8,
      "outputs": []
    },
    {
      "cell_type": "code",
      "source": [
        "word_tokenize(text)"
      ],
      "metadata": {
        "colab": {
          "base_uri": "https://localhost:8080/"
        },
        "id": "eSUP6iiGXlGX",
        "outputId": "577110cf-8feb-4099-f953-f901db26b35c"
      },
      "execution_count": 9,
      "outputs": [
        {
          "output_type": "execute_result",
          "data": {
            "text/plain": [
              "['Silver',\n",
              " 'certificates',\n",
              " 'are',\n",
              " 'a',\n",
              " 'type',\n",
              " 'of',\n",
              " 'representative',\n",
              " 'money',\n",
              " 'issued',\n",
              " 'between',\n",
              " '1878',\n",
              " 'and',\n",
              " '1964',\n",
              " 'in',\n",
              " 'the',\n",
              " 'United',\n",
              " 'States',\n",
              " 'as',\n",
              " 'part',\n",
              " 'of',\n",
              " 'its',\n",
              " 'circulation',\n",
              " 'of',\n",
              " 'paper',\n",
              " 'currency',\n",
              " '.',\n",
              " 'They',\n",
              " 'were',\n",
              " 'produced',\n",
              " 'in',\n",
              " 'response',\n",
              " 'to',\n",
              " 'silver',\n",
              " 'agitation',\n",
              " 'by',\n",
              " 'citizens',\n",
              " 'who',\n",
              " 'were',\n",
              " 'angered',\n",
              " 'by',\n",
              " 'the',\n",
              " 'Coinage',\n",
              " 'Act',\n",
              " 'of',\n",
              " '1873',\n",
              " ',',\n",
              " 'which',\n",
              " 'had',\n",
              " 'effectively',\n",
              " 'placed',\n",
              " 'the',\n",
              " 'United',\n",
              " 'States',\n",
              " 'on',\n",
              " 'a',\n",
              " 'gold',\n",
              " 'standard',\n",
              " '.',\n",
              " 'Since',\n",
              " '1968',\n",
              " 'they',\n",
              " 'have',\n",
              " 'been',\n",
              " 'redeemable',\n",
              " 'only',\n",
              " 'in',\n",
              " 'Federal',\n",
              " 'Reserve',\n",
              " 'Notes',\n",
              " 'and',\n",
              " 'are',\n",
              " 'thus',\n",
              " 'obsolete',\n",
              " ',',\n",
              " 'but',\n",
              " 'they',\n",
              " 'remain',\n",
              " 'legal',\n",
              " 'tender',\n",
              " 'at',\n",
              " 'their',\n",
              " 'face',\n",
              " 'value',\n",
              " 'and',\n",
              " 'hence',\n",
              " 'are',\n",
              " 'still',\n",
              " 'an',\n",
              " 'accepted',\n",
              " 'form',\n",
              " 'of',\n",
              " 'currency',\n",
              " '.',\n",
              " 'These',\n",
              " 'are',\n",
              " 'three',\n",
              " 'banknotes',\n",
              " 'from',\n",
              " 'the',\n",
              " '1934',\n",
              " 'series',\n",
              " 'of',\n",
              " 'silver',\n",
              " 'certificates',\n",
              " ',',\n",
              " 'designed',\n",
              " 'by',\n",
              " 'the',\n",
              " 'Bureau',\n",
              " 'of',\n",
              " 'Engraving',\n",
              " 'and',\n",
              " 'Printing',\n",
              " 'and',\n",
              " 'comprising',\n",
              " 'the',\n",
              " 'denominations',\n",
              " '$',\n",
              " '1',\n",
              " ',',\n",
              " '$',\n",
              " '5',\n",
              " 'and',\n",
              " '$',\n",
              " '10',\n",
              " '.',\n",
              " 'Each',\n",
              " 'banknote',\n",
              " 'bears',\n",
              " 'a',\n",
              " 'portrait',\n",
              " 'of',\n",
              " 'a',\n",
              " 'different',\n",
              " 'individual',\n",
              " ',',\n",
              " 'identified',\n",
              " 'above',\n",
              " '.']"
            ]
          },
          "metadata": {},
          "execution_count": 9
        }
      ]
    },
    {
      "cell_type": "code",
      "source": [
        "for sentence in documents:\n",
        "    print(word_tokenize(sentence))"
      ],
      "metadata": {
        "colab": {
          "base_uri": "https://localhost:8080/"
        },
        "id": "ZsBOJPAzXlXF",
        "outputId": "fbe2c420-0a26-4180-c490-514416ec15e9"
      },
      "execution_count": 10,
      "outputs": [
        {
          "output_type": "stream",
          "name": "stdout",
          "text": [
            "['Silver', 'certificates', 'are', 'a', 'type', 'of', 'representative', 'money', 'issued', 'between', '1878', 'and', '1964', 'in', 'the', 'United', 'States', 'as', 'part', 'of', 'its', 'circulation', 'of', 'paper', 'currency', '.']\n",
            "['They', 'were', 'produced', 'in', 'response', 'to', 'silver', 'agitation', 'by', 'citizens', 'who', 'were', 'angered', 'by', 'the', 'Coinage', 'Act', 'of', '1873', ',', 'which', 'had', 'effectively', 'placed', 'the', 'United', 'States', 'on', 'a', 'gold', 'standard', '.']\n",
            "['Since', '1968', 'they', 'have', 'been', 'redeemable', 'only', 'in', 'Federal', 'Reserve', 'Notes', 'and', 'are', 'thus', 'obsolete', ',', 'but', 'they', 'remain', 'legal', 'tender', 'at', 'their', 'face', 'value', 'and', 'hence', 'are', 'still', 'an', 'accepted', 'form', 'of', 'currency', '.']\n",
            "['These', 'are', 'three', 'banknotes', 'from', 'the', '1934', 'series', 'of', 'silver', 'certificates', ',', 'designed', 'by', 'the', 'Bureau', 'of', 'Engraving', 'and', 'Printing', 'and', 'comprising', 'the', 'denominations', '$', '1', ',', '$', '5', 'and', '$', '10', '.']\n",
            "['Each', 'banknote', 'bears', 'a', 'portrait', 'of', 'a', 'different', 'individual', ',', 'identified', 'above', '.']\n"
          ]
        }
      ]
    },
    {
      "cell_type": "code",
      "source": [
        "from nltk.tokenize import wordpunct_tokenize\n",
        "wordpunct_tokenize(text)"
      ],
      "metadata": {
        "colab": {
          "base_uri": "https://localhost:8080/"
        },
        "id": "SA0zoU_5YUIK",
        "outputId": "9e668dd1-84d8-4b1a-d467-43ab51b19a86"
      },
      "execution_count": 11,
      "outputs": [
        {
          "output_type": "execute_result",
          "data": {
            "text/plain": [
              "['Silver',\n",
              " 'certificates',\n",
              " 'are',\n",
              " 'a',\n",
              " 'type',\n",
              " 'of',\n",
              " 'representative',\n",
              " 'money',\n",
              " 'issued',\n",
              " 'between',\n",
              " '1878',\n",
              " 'and',\n",
              " '1964',\n",
              " 'in',\n",
              " 'the',\n",
              " 'United',\n",
              " 'States',\n",
              " 'as',\n",
              " 'part',\n",
              " 'of',\n",
              " 'its',\n",
              " 'circulation',\n",
              " 'of',\n",
              " 'paper',\n",
              " 'currency',\n",
              " '.',\n",
              " 'They',\n",
              " 'were',\n",
              " 'produced',\n",
              " 'in',\n",
              " 'response',\n",
              " 'to',\n",
              " 'silver',\n",
              " 'agitation',\n",
              " 'by',\n",
              " 'citizens',\n",
              " 'who',\n",
              " 'were',\n",
              " 'angered',\n",
              " 'by',\n",
              " 'the',\n",
              " 'Coinage',\n",
              " 'Act',\n",
              " 'of',\n",
              " '1873',\n",
              " ',',\n",
              " 'which',\n",
              " 'had',\n",
              " 'effectively',\n",
              " 'placed',\n",
              " 'the',\n",
              " 'United',\n",
              " 'States',\n",
              " 'on',\n",
              " 'a',\n",
              " 'gold',\n",
              " 'standard',\n",
              " '.',\n",
              " 'Since',\n",
              " '1968',\n",
              " 'they',\n",
              " 'have',\n",
              " 'been',\n",
              " 'redeemable',\n",
              " 'only',\n",
              " 'in',\n",
              " 'Federal',\n",
              " 'Reserve',\n",
              " 'Notes',\n",
              " 'and',\n",
              " 'are',\n",
              " 'thus',\n",
              " 'obsolete',\n",
              " ',',\n",
              " 'but',\n",
              " 'they',\n",
              " 'remain',\n",
              " 'legal',\n",
              " 'tender',\n",
              " 'at',\n",
              " 'their',\n",
              " 'face',\n",
              " 'value',\n",
              " 'and',\n",
              " 'hence',\n",
              " 'are',\n",
              " 'still',\n",
              " 'an',\n",
              " 'accepted',\n",
              " 'form',\n",
              " 'of',\n",
              " 'currency',\n",
              " '.',\n",
              " 'These',\n",
              " 'are',\n",
              " 'three',\n",
              " 'banknotes',\n",
              " 'from',\n",
              " 'the',\n",
              " '1934',\n",
              " 'series',\n",
              " 'of',\n",
              " 'silver',\n",
              " 'certificates',\n",
              " ',',\n",
              " 'designed',\n",
              " 'by',\n",
              " 'the',\n",
              " 'Bureau',\n",
              " 'of',\n",
              " 'Engraving',\n",
              " 'and',\n",
              " 'Printing',\n",
              " 'and',\n",
              " 'comprising',\n",
              " 'the',\n",
              " 'denominations',\n",
              " '$',\n",
              " '1',\n",
              " ',',\n",
              " '$',\n",
              " '5',\n",
              " 'and',\n",
              " '$',\n",
              " '10',\n",
              " '.',\n",
              " 'Each',\n",
              " 'banknote',\n",
              " 'bears',\n",
              " 'a',\n",
              " 'portrait',\n",
              " 'of',\n",
              " 'a',\n",
              " 'different',\n",
              " 'individual',\n",
              " ',',\n",
              " 'identified',\n",
              " 'above',\n",
              " '.']"
            ]
          },
          "metadata": {},
          "execution_count": 11
        }
      ]
    },
    {
      "cell_type": "code",
      "source": [
        "from nltk.tokenize import TreebankWordTokenizer\n",
        "tokenizer=TreebankWordTokenizer()\n",
        "tokenizer.tokenize(text)\n"
      ],
      "metadata": {
        "colab": {
          "base_uri": "https://localhost:8080/"
        },
        "id": "Vz1YjicbYbgu",
        "outputId": "525524ac-95e8-4c6c-acc1-47343c5a58e0"
      },
      "execution_count": 14,
      "outputs": [
        {
          "output_type": "execute_result",
          "data": {
            "text/plain": [
              "['Silver',\n",
              " 'certificates',\n",
              " 'are',\n",
              " 'a',\n",
              " 'type',\n",
              " 'of',\n",
              " 'representative',\n",
              " 'money',\n",
              " 'issued',\n",
              " 'between',\n",
              " '1878',\n",
              " 'and',\n",
              " '1964',\n",
              " 'in',\n",
              " 'the',\n",
              " 'United',\n",
              " 'States',\n",
              " 'as',\n",
              " 'part',\n",
              " 'of',\n",
              " 'its',\n",
              " 'circulation',\n",
              " 'of',\n",
              " 'paper',\n",
              " 'currency.',\n",
              " 'They',\n",
              " 'were',\n",
              " 'produced',\n",
              " 'in',\n",
              " 'response',\n",
              " 'to',\n",
              " 'silver',\n",
              " 'agitation',\n",
              " 'by',\n",
              " 'citizens',\n",
              " 'who',\n",
              " 'were',\n",
              " 'angered',\n",
              " 'by',\n",
              " 'the',\n",
              " 'Coinage',\n",
              " 'Act',\n",
              " 'of',\n",
              " '1873',\n",
              " ',',\n",
              " 'which',\n",
              " 'had',\n",
              " 'effectively',\n",
              " 'placed',\n",
              " 'the',\n",
              " 'United',\n",
              " 'States',\n",
              " 'on',\n",
              " 'a',\n",
              " 'gold',\n",
              " 'standard.',\n",
              " 'Since',\n",
              " '1968',\n",
              " 'they',\n",
              " 'have',\n",
              " 'been',\n",
              " 'redeemable',\n",
              " 'only',\n",
              " 'in',\n",
              " 'Federal',\n",
              " 'Reserve',\n",
              " 'Notes',\n",
              " 'and',\n",
              " 'are',\n",
              " 'thus',\n",
              " 'obsolete',\n",
              " ',',\n",
              " 'but',\n",
              " 'they',\n",
              " 'remain',\n",
              " 'legal',\n",
              " 'tender',\n",
              " 'at',\n",
              " 'their',\n",
              " 'face',\n",
              " 'value',\n",
              " 'and',\n",
              " 'hence',\n",
              " 'are',\n",
              " 'still',\n",
              " 'an',\n",
              " 'accepted',\n",
              " 'form',\n",
              " 'of',\n",
              " 'currency.',\n",
              " 'These',\n",
              " 'are',\n",
              " 'three',\n",
              " 'banknotes',\n",
              " 'from',\n",
              " 'the',\n",
              " '1934',\n",
              " 'series',\n",
              " 'of',\n",
              " 'silver',\n",
              " 'certificates',\n",
              " ',',\n",
              " 'designed',\n",
              " 'by',\n",
              " 'the',\n",
              " 'Bureau',\n",
              " 'of',\n",
              " 'Engraving',\n",
              " 'and',\n",
              " 'Printing',\n",
              " 'and',\n",
              " 'comprising',\n",
              " 'the',\n",
              " 'denominations',\n",
              " '$',\n",
              " '1',\n",
              " ',',\n",
              " '$',\n",
              " '5',\n",
              " 'and',\n",
              " '$',\n",
              " '10.',\n",
              " 'Each',\n",
              " 'banknote',\n",
              " 'bears',\n",
              " 'a',\n",
              " 'portrait',\n",
              " 'of',\n",
              " 'a',\n",
              " 'different',\n",
              " 'individual',\n",
              " ',',\n",
              " 'identified',\n",
              " 'above',\n",
              " '.']"
            ]
          },
          "metadata": {},
          "execution_count": 14
        }
      ]
    },
    {
      "cell_type": "code",
      "source": [],
      "metadata": {
        "id": "2pdBi9XKYiNt"
      },
      "execution_count": null,
      "outputs": []
    }
  ]
}